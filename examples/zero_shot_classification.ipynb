{
 "cells": [
  {
   "cell_type": "code",
   "id": "initial_id",
   "metadata": {
    "collapsed": true
   },
   "source": [
    "from torch.utils.data import DataLoader\n",
    "from clap import Clap\n",
    "from clap.evaluate import eval_zero_shot_classification\n",
    "from clap.datasets import ClapDataset\n",
    "from clap.utils import get_target_device, load_clap_config"
   ],
   "outputs": [],
   "execution_count": null
  },
  {
   "metadata": {},
   "cell_type": "markdown",
   "source": "# Evaluate Zero-Shot audio classification performance on the ESC-50 dataset",
   "id": "adf2d5d4da69a5e9"
  },
  {
   "metadata": {},
   "cell_type": "code",
   "source": [
    "# Load config for audio processing and get target device\n",
    "audio_encoder = \"htsat-tiny\"\n",
    "text_encoder = \"gpt2\"\n",
    "cfg_version = 1\n",
    "ckpt_version = 3\n",
    "config = load_clap_config(audio_encoder=audio_encoder, text_encoder=text_encoder, version=cfg_version)\n",
    "device = get_target_device()"
   ],
   "id": "941ce47b52ef310c",
   "outputs": [],
   "execution_count": null
  },
  {
   "metadata": {},
   "cell_type": "code",
   "source": [
    "# Load Dataset and DataLoader\n",
    "esc50_dataset = ClapDataset(config=config, kinds=[\"train\", \"val\", \"test\"], datasets=[\"ESC50\"])\n",
    "esc50_dataloader = DataLoader(esc50_dataset, batch_size=64, shuffle=False)\n",
    "class_to_idx, _ = ClapDataset.load_esc50_class_mapping()"
   ],
   "id": "c5502aadafc2709a",
   "outputs": [],
   "execution_count": null
  },
  {
   "metadata": {},
   "cell_type": "code",
   "source": [
    "# Load pretrained model\n",
    "model = Clap.from_ckpt(audio_encoder=audio_encoder, text_encoder=text_encoder, ckpt_version=ckpt_version, cfg_version=cfg_version).to(device)"
   ],
   "id": "207888a64db92e62",
   "outputs": [],
   "execution_count": null
  },
  {
   "metadata": {},
   "cell_type": "code",
   "source": [
    "# Generate prompts\n",
    "prompt = \"This is the sound of \"\n",
    "prompts = [prompt + y for y in class_to_idx.keys()]"
   ],
   "id": "1d1c4cc5f5ef63bf",
   "outputs": [],
   "execution_count": null
  },
  {
   "metadata": {},
   "cell_type": "code",
   "source": [
    "# Compute text embedding for the prompts\n",
    "class_embeddings = model.get_text_embeddings(prompts)"
   ],
   "id": "f8761da19fd917c4",
   "outputs": [],
   "execution_count": null
  },
  {
   "metadata": {},
   "cell_type": "code",
   "source": [
    "# Get ZS accuracy\n",
    "acc = eval_zero_shot_classification(model=model, eval_loader=esc50_dataloader, class_embeddings=class_embeddings)"
   ],
   "id": "db6c91087d79f1b6",
   "outputs": [],
   "execution_count": null
  },
  {
   "metadata": {},
   "cell_type": "code",
   "source": "print(f'ESC50 Accuracy: {acc}')",
   "id": "ba0f35e138323c05",
   "outputs": [],
   "execution_count": null
  }
 ],
 "metadata": {
  "kernelspec": {
   "display_name": "Python 3",
   "language": "python",
   "name": "python3"
  },
  "language_info": {
   "codemirror_mode": {
    "name": "ipython",
    "version": 2
   },
   "file_extension": ".py",
   "mimetype": "text/x-python",
   "name": "python",
   "nbconvert_exporter": "python",
   "pygments_lexer": "ipython2",
   "version": "2.7.6"
  }
 },
 "nbformat": 4,
 "nbformat_minor": 5
}

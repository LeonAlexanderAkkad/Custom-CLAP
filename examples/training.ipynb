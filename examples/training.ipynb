{
 "cells": [
  {
   "cell_type": "code",
   "id": "initial_id",
   "metadata": {},
   "source": [
    "%load_ext autoreload\n",
    "%autoreload 2\n",
    "import wandb as wb\n",
    "from clap import Clap, ClapDataset, ClapTrainer, SymmetricCrossEntropyLoss, get_target_device, load_config\n",
    "from torch.utils.data import DataLoader\n",
    "from torch import optim"
   ],
   "outputs": [],
   "execution_count": null
  },
  {
   "metadata": {},
   "cell_type": "code",
   "source": [
    "config_path = \"clap/configs/clap_htsat-tiny_gpt2.yml\"\n",
    "config = load_config(config_path)\n",
    "device = get_target_device()"
   ],
   "id": "200215a64d7b9d33",
   "outputs": [],
   "execution_count": null
  },
  {
   "metadata": {},
   "cell_type": "code",
   "source": [
    "# change these accordingly\n",
    "seed = ClapTrainer.set_random_seed(None)\n",
    "train_dataset = ClapDataset(config=config_path, kind=\"train\")\n",
    "val_dataset = ClapDataset(config=config_path, kind=\"val\")\n",
    "test_dataset = ClapDataset(config=config_path, kind=\"test\")"
   ],
   "id": "e768d189b841f464",
   "outputs": [],
   "execution_count": null
  },
  {
   "cell_type": "code",
   "id": "b8f0357b0121987b",
   "metadata": {},
   "source": [
    "wb.login()"
   ],
   "outputs": [],
   "execution_count": null
  },
  {
   "cell_type": "code",
   "id": "7f1c5b721f62cd81",
   "metadata": {},
   "source": [
    "wb.init(\n",
    "    # set the wandb project where this run will be logged \n",
    "    project='Custom-CLAP',\n",
    "    name=\"Test run with hdf5 file\",\n",
    "    # track hyperparameters\n",
    "    config=config\n",
    ")\n",
    "config = wb.config"
   ],
   "outputs": [],
   "execution_count": null
  },
  {
   "cell_type": "code",
   "id": "9adf38907f6d43cd",
   "metadata": {},
   "source": [
    "# define data loaders\n",
    "train_loader = DataLoader(train_dataset, batch_size=config[\"batch_size\"], shuffle=True)\n",
    "val_loader = DataLoader(val_dataset, batch_size=config[\"batch_size\"])\n",
    "test_loader = DataLoader(test_dataset, batch_size=config[\"batch_size\"])"
   ],
   "outputs": [],
   "execution_count": null
  },
  {
   "cell_type": "code",
   "id": "bae277a6c350b548",
   "metadata": {},
   "source": [
    "# define model, optimize and loss function\n",
    "model = Clap(config).to(device)\n",
    "print(f\"Number of parameters to train: {sum(p.numel() for p in model.parameters())}\")\n",
    "optimizer = optim.Adam(model.parameters(), lr=config[\"learning_rate\"])\n",
    "loss_fn = SymmetricCrossEntropyLoss()\n",
    "trainer = ClapTrainer(train_loader, val_loader, test_loader, model, optimizer, loss_fn, config[\"epochs\"])"
   ],
   "outputs": [],
   "execution_count": null
  },
  {
   "cell_type": "code",
   "id": "73bc9bffbaf50076",
   "metadata": {},
   "source": "metrics = trainer.train_and_eval(\"checkpoints/test.ckpt\", None, False)",
   "outputs": [],
   "execution_count": null
  },
  {
   "cell_type": "code",
   "id": "2b40a40bc3d0c553",
   "metadata": {},
   "source": [
    "wb.finish()"
   ],
   "outputs": [],
   "execution_count": null
  }
 ],
 "metadata": {
  "kernelspec": {
   "display_name": "Python 3 (ipykernel)",
   "language": "python",
   "name": "python3"
  },
  "language_info": {
   "codemirror_mode": {
    "name": "ipython",
    "version": 3
   },
   "file_extension": ".py",
   "mimetype": "text/x-python",
   "name": "python",
   "nbconvert_exporter": "python",
   "pygments_lexer": "ipython3",
   "version": "3.11.8"
  }
 },
 "nbformat": 4,
 "nbformat_minor": 5
}

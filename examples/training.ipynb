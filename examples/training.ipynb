{
 "cells": [
  {
   "cell_type": "code",
   "id": "initial_id",
   "metadata": {},
   "source": [
    "# %load_ext autoreload\n",
    "# %autoreload 2\n",
    "import wandb\n",
    "from torch.utils.data import DataLoader\n",
    "from torch import optim\n",
    "from clap import Clap\n",
    "from clap.datasets import ClapDataset\n",
    "from clap.training import ClapTrainer, create_scheduler, SymmetricCrossEntropyLoss\n",
    "from clap.utils import get_target_device, load_clap_config, set_random_seed"
   ],
   "outputs": [],
   "execution_count": null
  },
  {
   "metadata": {},
   "cell_type": "markdown",
   "source": "# Train CLAP on audio captioning datasets AudioCaps and ClothoV2",
   "id": "42fa21ffc315fc9a"
  },
  {
   "metadata": {},
   "cell_type": "code",
   "source": [
    "# Load config for audio processing and get target device\n",
    "config_path = r\"C:\\Users\\leon\\Documents\\ML_Projects\\Custom-CLAP\\clap\\configs\\clap_htsat-tiny_gpt2_v1.yml\"\n",
    "ckpt_path = r\"C:\\Users\\leon\\Documents\\ML_Projects\\Custom-CLAP\\clap\\checkpoints\\clap_htsat-tiny_gpt2_v1.ckpt\"\n",
    "config = load_clap_config(config_path=config_path)\n",
    "device = get_target_device()"
   ],
   "id": "200215a64d7b9d33",
   "outputs": [],
   "execution_count": null
  },
  {
   "metadata": {},
   "cell_type": "code",
   "source": [
    "# Load Datasets\n",
    "seed = set_random_seed(config[\"training\"][\"seed\"])\n",
    "dataset_paths = [r\"C:\\Users\\leon\\Documents\\ML_Projects\\Custom-CLAP\\clap\\datasets\\audiocaps\", r\"C:\\Users\\leon\\Documents\\ML_Projects\\Custom-CLAP\\clap\\datasets\\clotho\"]\n",
    "train_dataset = ClapDataset(config=config, kinds=[\"train\"], datasets=[\"AudioCaps\", \"Clotho\"], datasets_paths=dataset_paths)\n",
    "val_dataset = ClapDataset(config=config, kinds=[\"val\"], datasets=[\"AudioCaps\", \"Clotho\"], datasets_paths=dataset_paths)\n",
    "test_dataset = ClapDataset(config=config, kinds=[\"test\"], datasets=[\"AudioCaps\", \"Clotho\"], datasets_paths=dataset_paths)"
   ],
   "id": "e768d189b841f464",
   "outputs": [],
   "execution_count": null
  },
  {
   "cell_type": "code",
   "id": "b8f0357b0121987b",
   "metadata": {},
   "source": [
    "# Use wandb logging (just skip and set enable_wandb_logging to False if not wanted)\n",
    "wandb.login()"
   ],
   "outputs": [],
   "execution_count": null
  },
  {
   "cell_type": "code",
   "id": "7f1c5b721f62cd81",
   "metadata": {},
   "source": [
    "wandb.init(\n",
    "    # Set the wandb project where this run will be logged \n",
    "    project='CLAP-Training',\n",
    "    name=\"First correct run\",\n",
    "    # Track hyperparameters\n",
    "    config=config\n",
    ")\n",
    "config = wandb.config"
   ],
   "outputs": [],
   "execution_count": null
  },
  {
   "cell_type": "code",
   "id": "9adf38907f6d43cd",
   "metadata": {},
   "source": [
    "# Define data loaders\n",
    "train_loader = DataLoader(train_dataset, batch_size=config[\"training\"][\"batch_size\"], shuffle=True)\n",
    "val_loader = DataLoader(val_dataset, batch_size=config[\"training\"][\"batch_size\"])\n",
    "test_loader = DataLoader(test_dataset, batch_size=config[\"training\"][\"batch_size\"])"
   ],
   "outputs": [],
   "execution_count": null
  },
  {
   "cell_type": "code",
   "id": "bae277a6c350b548",
   "metadata": {},
   "source": [
    "# Define model, optimizer, scheduler and loss function\n",
    "clap = Clap(config).to(device)\n",
    "print(f\"Number of parameters to train: {sum(p.numel() for p in clap.parameters())}\")\n",
    "optimizer = optim.Adam(clap.parameters(), lr=config[\"training\"][\"learning_rate\"])\n",
    "scheduler = create_scheduler(optimizer, warmup_steps=config[\"training\"][\"warmup_steps\"], T_max=len(train_loader)*config[\"training\"][\"epochs\"], milestones=config[\"training\"][\"milestones\"])\n",
    "loss_fn = SymmetricCrossEntropyLoss()\n",
    "trainer = ClapTrainer(\n",
    "    train_loader=train_loader,\n",
    "    val_loader=val_loader,\n",
    "    test_loader=test_loader,\n",
    "    model=clap,\n",
    "    optimizer=optimizer,\n",
    "    scheduler=scheduler,\n",
    "    loss_fn=loss_fn,\n",
    "    epochs=config[\"training\"][\"epochs\"],\n",
    "    enable_wandb_logging=False\n",
    ")"
   ],
   "outputs": [],
   "execution_count": null
  },
  {
   "cell_type": "code",
   "id": "73bc9bffbaf50076",
   "metadata": {},
   "source": "train_metrics, val_metrics, test_metrics = trainer.train_and_eval(ckpt_path, early_stopping=False)",
   "outputs": [],
   "execution_count": null
  },
  {
   "cell_type": "code",
   "id": "2b40a40bc3d0c553",
   "metadata": {},
   "source": "wandb.finish()",
   "outputs": [],
   "execution_count": null
  },
  {
   "metadata": {},
   "cell_type": "markdown",
   "source": "",
   "id": "2414cdc27fbabdd1"
  }
 ],
 "metadata": {
  "kernelspec": {
   "display_name": "Python 3 (ipykernel)",
   "language": "python",
   "name": "python3"
  },
  "language_info": {
   "codemirror_mode": {
    "name": "ipython",
    "version": 3
   },
   "file_extension": ".py",
   "mimetype": "text/x-python",
   "name": "python",
   "nbconvert_exporter": "python",
   "pygments_lexer": "ipython3",
   "version": "3.11.8"
  }
 },
 "nbformat": 4,
 "nbformat_minor": 5
}

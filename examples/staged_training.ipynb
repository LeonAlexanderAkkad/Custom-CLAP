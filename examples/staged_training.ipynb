{
 "cells": [
  {
   "cell_type": "code",
   "id": "initial_id",
   "metadata": {},
   "source": [
    "# %load_ext autoreload\n",
    "# %autoreload 2\n",
    "import wandb\n",
    "from torch.utils.data import DataLoader\n",
    "from torch import optim\n",
    "from clap import Clap\n",
    "from clap.datasets import ClapDataset\n",
    "from clap.training import ClapTrainer, create_scheduler, SymmetricCrossEntropyLoss\n",
    "from clap.utils import get_target_device, load_clap_config, set_random_seed"
   ],
   "outputs": [],
   "execution_count": null
  },
  {
   "metadata": {},
   "cell_type": "markdown",
   "source": "# Stage 1: Train CLAP on audio captioning datasets AudioCaps and ClothoV2",
   "id": "42fa21ffc315fc9a"
  },
  {
   "metadata": {},
   "cell_type": "code",
   "source": [
    "# Load config for audio processing and get target device\n",
    "config_path = r\"C:\\Users\\leon\\Documents\\ML_Projects\\Custom-CLAP\\clap\\configs\\clap_cnn14_distilroberta-base_vTestDistillation.yml\"\n",
    "ckpt_path = r\"C:\\Users\\leon\\Documents\\ML_Projects\\Custom-CLAP\\clap\\checkpoints\\clap_cnn14_distilroberta-base_vStage1_Clotho.ckpt\"\n",
    "config = load_clap_config(config_path)\n",
    "device = get_target_device()"
   ],
   "id": "200215a64d7b9d33",
   "outputs": [],
   "execution_count": null
  },
  {
   "metadata": {},
   "cell_type": "code",
   "outputs": [],
   "execution_count": null,
   "source": [
    "# Use wandb logging (just skip and set enable_wandb_logging to False if not wanted)\n",
    "wandb.login()"
   ],
   "id": "b8f0357b0121987b"
  },
  {
   "metadata": {},
   "cell_type": "code",
   "outputs": [],
   "execution_count": null,
   "source": [
    "wandb.init(\n",
    "    # Set the wandb project where this run will be logged \n",
    "    project='CLAP-Training',\n",
    "    name=\"Stage 1 only on Clotho\",\n",
    "    # Track hyperparameters\n",
    "    config=config\n",
    ")\n",
    "config = wandb.config\n",
    "\n",
    "config_stage1 = config[\"training\"][\"stage1\"]\n",
    "set_random_seed(config_stage1[\"seed\"])"
   ],
   "id": "7f1c5b721f62cd81"
  },
  {
   "metadata": {},
   "cell_type": "code",
   "outputs": [],
   "execution_count": null,
   "source": [
    "# Load Datasets\n",
    "dataset_paths = [r\"C:\\Users\\leon\\Documents\\ML_Projects\\Custom-CLAP\\clap\\datasets\\clotho\"]\n",
    "train_dataset = ClapDataset(config=config, kinds=[\"train\"], datasets=[\"Clotho\"], datasets_paths=dataset_paths)\n",
    "val_dataset = ClapDataset(config=config, kinds=[\"val\"], datasets=[\"Clotho\"], datasets_paths=dataset_paths)\n",
    "test_dataset = ClapDataset(config=config, kinds=[\"test\"], datasets=[\"Clotho\"], datasets_paths=dataset_paths)"
   ],
   "id": "e768d189b841f464"
  },
  {
   "cell_type": "code",
   "id": "9adf38907f6d43cd",
   "metadata": {},
   "source": [
    "# Define data loaders\n",
    "train_loader = DataLoader(train_dataset, batch_size=config_stage1[\"batch_size\"], shuffle=True)\n",
    "val_loader = DataLoader(val_dataset, batch_size=config_stage1[\"batch_size\"])\n",
    "test_loader = DataLoader(test_dataset, batch_size=config_stage1[\"batch_size\"])"
   ],
   "outputs": [],
   "execution_count": null
  },
  {
   "metadata": {},
   "cell_type": "code",
   "source": [
    "# Define model\n",
    "clap = Clap(config).to(device)\n",
    "print(f\"Number of parameters to train: {sum(p.numel() for p in clap.parameters())}\")"
   ],
   "id": "afe1a2469daa8e16",
   "outputs": [],
   "execution_count": null
  },
  {
   "cell_type": "code",
   "id": "bae277a6c350b548",
   "metadata": {},
   "source": [
    "# Define optimizer, scheduler and loss function\n",
    "optimizer = optim.AdamW(clap.parameters(), lr=config_stage1[\"learning_rate\"], betas=config_stage1[\"betas\"], weight_decay=config_stage1[\"weight_decay\"])\n",
    "scheduler = create_scheduler(optimizer, warmup_steps=len(train_loader)*config_stage1[\"warmup_epochs\"], T_max=len(train_loader)*config_stage1[\"annealing_epochs\"]-1, min_lr=1e-6)\n",
    "loss_fn = SymmetricCrossEntropyLoss()"
   ],
   "outputs": [],
   "execution_count": null
  },
  {
   "metadata": {},
   "cell_type": "code",
   "source": [
    "# Define trainer\n",
    "stage1_trainer = ClapTrainer(\n",
    "    train_loader=train_loader,\n",
    "    val_loader=val_loader,\n",
    "    test_loader=test_loader,\n",
    "    model=clap,\n",
    "    optimizer=optimizer,\n",
    "    scheduler=scheduler,\n",
    "    loss_fn=loss_fn,\n",
    "    epochs=config_stage1[\"epochs\"],\n",
    "    enable_wandb_logging=True\n",
    ")"
   ],
   "id": "9109d41344f2cc5d",
   "outputs": [],
   "execution_count": null
  },
  {
   "cell_type": "code",
   "id": "73bc9bffbaf50076",
   "metadata": {},
   "source": "stage1_train_metrics, stage1_val_metrics, stage1_test_metrics = stage1_trainer.train_and_eval(ckpt_path, early_stopping=False)",
   "outputs": [],
   "execution_count": null
  },
  {
   "metadata": {},
   "cell_type": "code",
   "source": "wandb.finish()",
   "id": "2b40a40bc3d0c553",
   "outputs": [],
   "execution_count": null
  },
  {
   "metadata": {},
   "cell_type": "markdown",
   "source": "# Stage 2: Continue training by distilling soft-targets from pre-trained CLAP models",
   "id": "b788a734f8eed958"
  },
  {
   "metadata": {},
   "cell_type": "code",
   "outputs": [],
   "execution_count": null,
   "source": [
    "# Load config for audio processing and get target device\n",
    "config_path = r\"C:\\Users\\leon\\Documents\\ML_Projects\\Custom-CLAP\\clap\\configs\\clap_cnn14_distilroberta-base_vTestDistillation.yml\"\n",
    "ckpt_path = r\"C:\\Users\\leon\\Documents\\ML_Projects\\Custom-CLAP\\clap\\checkpoints\\clap_cnn14_distilroberta-base_vStage1_Clotho.ckpt\"\n",
    "config = load_clap_config(config_path)\n",
    "device = get_target_device()"
   ],
   "id": "1f677aea0e9bc509"
  },
  {
   "metadata": {},
   "cell_type": "code",
   "outputs": [],
   "execution_count": null,
   "source": [
    "# Use wandb logging (just skip and set enable_wandb_logging to False if not wanted)\n",
    "wandb.login()"
   ],
   "id": "d2bff1d21e02e0eb"
  },
  {
   "metadata": {},
   "cell_type": "code",
   "source": [
    "wandb.init(\n",
    "    # Set the wandb project where this run will be logged \n",
    "    project='CLAP-Training',\n",
    "    name=\"Stage 2 with distillation\",\n",
    "    # Track hyperparameters\n",
    "    config=config\n",
    ")\n",
    "config = wandb.config\n",
    "\n",
    "config_stage2 = config[\"training\"][\"stage2\"]\n",
    "set_random_seed(config_stage2[\"seed\"])"
   ],
   "id": "51eb416b15838dbd",
   "outputs": [],
   "execution_count": null
  },
  {
   "metadata": {},
   "cell_type": "code",
   "outputs": [],
   "execution_count": null,
   "source": [
    "# Load Datasets\n",
    "dataset_paths = [r\"C:\\Users\\leon\\Documents\\ML_Projects\\Custom-CLAP\\clap\\datasets\\clotho\"]\n",
    "train_dataset = ClapDataset(config=config, kinds=[\"train\"], datasets=[\"Clotho\"], datasets_paths=dataset_paths)\n",
    "val_dataset = ClapDataset(config=config, kinds=[\"val\"], datasets=[\"Clotho\"], datasets_paths=dataset_paths)\n",
    "test_dataset = ClapDataset(config=config, kinds=[\"test\"], datasets=[\"Clotho\"], datasets_paths=dataset_paths)"
   ],
   "id": "277e027e76cdd612"
  },
  {
   "metadata": {},
   "cell_type": "code",
   "source": [
    "# Define data loaders\n",
    "train_loader = DataLoader(train_dataset, batch_size=config_stage2[\"batch_size\"], shuffle=True)\n",
    "val_loader = DataLoader(val_dataset, batch_size=config_stage2[\"batch_size\"])\n",
    "test_loader = DataLoader(test_dataset, batch_size=config_stage2[\"batch_size\"])"
   ],
   "id": "b02356a6ab10360",
   "outputs": [],
   "execution_count": null
  },
  {
   "metadata": {},
   "cell_type": "code",
   "source": [
    "# Define model\n",
    "clap = Clap.from_ckpt(config_path=config_path, ckpt_path=ckpt_path).to(device)"
   ],
   "id": "6f04a1c1d9b188c4",
   "outputs": [],
   "execution_count": null
  },
  {
   "metadata": {},
   "cell_type": "code",
   "source": [
    "# Define optimizer, scheduler and loss function\n",
    "optimizer = optim.AdamW(clap.parameters(), lr=config_stage2[\"learning_rate\"], betas=config_stage2[\"betas\"], weight_decay=config_stage2[\"weight_decay\"])\n",
    "scheduler = create_scheduler(optimizer, warmup_steps=len(train_loader)*config_stage2[\"warmup_epochs\"], T_max=len(train_loader)*config_stage2[\"annealing_epochs\"]-1, min_lr=1e-6)\n",
    "loss_fn = SymmetricCrossEntropyLoss()"
   ],
   "id": "d5df024b3fbfd6c9",
   "outputs": [],
   "execution_count": null
  },
  {
   "metadata": {},
   "cell_type": "code",
   "source": [
    "# Define distillation models and loss weight\n",
    "distill_models = []\n",
    "distill_model1 = Clap.from_ckpt(config_path=config_path, ckpt_path=ckpt_path).to(device)\n",
    "distill_model1.freeze_encoders()\n",
    "distill_model1.eval()\n",
    "distill_models.append(distill_model1)\n",
    "\n",
    "distill_from = distill_models\n",
    "distill_weight = 1"
   ],
   "id": "dc6d387e286db169",
   "outputs": [],
   "execution_count": null
  },
  {
   "metadata": {},
   "cell_type": "code",
   "source": [
    "stage2_trainer = ClapTrainer(\n",
    "    train_loader=train_loader,\n",
    "    val_loader=val_loader,\n",
    "    test_loader=test_loader,\n",
    "    model=clap,\n",
    "    optimizer=optimizer,\n",
    "    scheduler=scheduler,\n",
    "    loss_fn=loss_fn,\n",
    "    epochs=config_stage2[\"epochs\"],\n",
    "    enable_wandb_logging=True,\n",
    "    distill_from=distill_from,\n",
    "    distill_weight=distill_weight\n",
    ")"
   ],
   "id": "466241a32e7d3283",
   "outputs": [],
   "execution_count": null
  },
  {
   "metadata": {},
   "cell_type": "code",
   "source": "stage2_train_metrics, stage2_val_metrics, stage2_test_metrics = stage2_trainer.train_and_eval(ckpt_path, early_stopping=True)",
   "id": "2fd91057337c4a22",
   "outputs": [],
   "execution_count": null
  },
  {
   "metadata": {},
   "cell_type": "code",
   "source": "wandb.finish()",
   "id": "59979641ecd514f1",
   "outputs": [],
   "execution_count": null
  }
 ],
 "metadata": {
  "kernelspec": {
   "display_name": "Python 3 (ipykernel)",
   "language": "python",
   "name": "python3"
  },
  "language_info": {
   "codemirror_mode": {
    "name": "ipython",
    "version": 3
   },
   "file_extension": ".py",
   "mimetype": "text/x-python",
   "name": "python",
   "nbconvert_exporter": "python",
   "pygments_lexer": "ipython3",
   "version": "3.11.8"
  }
 },
 "nbformat": 4,
 "nbformat_minor": 5
}

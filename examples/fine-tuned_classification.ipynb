{
 "cells": [
  {
   "cell_type": "code",
   "id": "initial_id",
   "metadata": {
    "collapsed": true,
    "ExecuteTime": {
     "end_time": "2024-08-06T13:49:16.740891Z",
     "start_time": "2024-08-06T13:49:12.154491Z"
    }
   },
   "source": [
    "from torch.utils.data import DataLoader\n",
    "from clap import  ClapAudioClassifier\n",
    "from clap.evaluate import eval_fine_tuned_classification\n",
    "from clap.datasets import ClapDataset\n",
    "from clap.utils import get_target_device, load_clap_config"
   ],
   "outputs": [],
   "execution_count": 1
  },
  {
   "metadata": {},
   "cell_type": "markdown",
   "source": "# Evaluate fine-tuned audio classification performance on the ESC-50 dataset",
   "id": "a69873974242d404"
  },
  {
   "metadata": {
    "ExecuteTime": {
     "end_time": "2024-08-06T13:49:16.747610Z",
     "start_time": "2024-08-06T13:49:16.742394Z"
    }
   },
   "cell_type": "code",
   "source": [
    "# Load config for audio processing and get target device\n",
    "audio_encoder = \"htsat-tiny\"\n",
    "text_encoder = \"gpt2\"\n",
    "cfg_version = 1\n",
    "ckpt_version = 1\n",
    "config = load_clap_config(audio_encoder=audio_encoder, text_encoder=text_encoder, version=cfg_version)\n",
    "device = get_target_device()"
   ],
   "id": "72c2bd97246e822d",
   "outputs": [],
   "execution_count": 2
  },
  {
   "metadata": {
    "ExecuteTime": {
     "end_time": "2024-08-06T13:49:17.219588Z",
     "start_time": "2024-08-06T13:49:16.748621Z"
    }
   },
   "cell_type": "code",
   "source": [
    "# Load Dataset and DataLoader\n",
    "esc50_dataset = ClapDataset(config=config, kinds=[\"train\", \"val\", \"test\"], datasets=[\"ESC50\"])\n",
    "esc50_dataloader = DataLoader(esc50_dataset, batch_size=64, shuffle=False)"
   ],
   "id": "1d09a17c22a9973f",
   "outputs": [],
   "execution_count": 3
  },
  {
   "metadata": {
    "ExecuteTime": {
     "end_time": "2024-08-06T13:49:19.029363Z",
     "start_time": "2024-08-06T13:49:17.220589Z"
    }
   },
   "cell_type": "code",
   "source": [
    "# Load pretrained model\n",
    "clf = ClapAudioClassifier.from_ckpt(audio_encoder=audio_encoder, text_encoder=text_encoder, clap_cfg_version=cfg_version, clf_ckpt_version=ckpt_version).to(device)"
   ],
   "id": "365b0be6d9001775",
   "outputs": [
    {
     "name": "stderr",
     "output_type": "stream",
     "text": [
      "C:\\Users\\leon\\miniconda3\\envs\\custom-clap\\Lib\\site-packages\\huggingface_hub\\file_download.py:1132: FutureWarning: `resume_download` is deprecated and will be removed in version 1.0.0. Downloads always resume when possible. If you want to force a new download, use `force_download=True`.\n",
      "  warnings.warn(\n",
      "C:\\Users\\leon\\miniconda3\\envs\\custom-clap\\Lib\\site-packages\\torch\\functional.py:512: UserWarning: torch.meshgrid: in an upcoming release, it will be required to pass the indexing argument. (Triggered internally at C:\\cb\\pytorch_1000000000000\\work\\aten\\src\\ATen\\native\\TensorShape.cpp:3588.)\n",
      "  return _VF.meshgrid(tensors, **kwargs)  # type: ignore[attr-defined]\n"
     ]
    }
   ],
   "execution_count": 4
  },
  {
   "metadata": {
    "ExecuteTime": {
     "end_time": "2024-08-06T13:49:38.569024Z",
     "start_time": "2024-08-06T13:49:19.030368Z"
    }
   },
   "cell_type": "code",
   "source": "acc = eval_fine_tuned_classification(model=clf, eval_loader=esc50_dataloader)",
   "id": "5057bf46dadd4d6e",
   "outputs": [
    {
     "name": "stderr",
     "output_type": "stream",
     "text": [
      "Evaluating Fine-Tuned Classification: 100%|██████████| 32/32 [00:19<00:00,  1.64it/s]\n"
     ]
    }
   ],
   "execution_count": 5
  },
  {
   "metadata": {
    "ExecuteTime": {
     "end_time": "2024-08-06T13:50:11.007821Z",
     "start_time": "2024-08-06T13:50:11.004949Z"
    }
   },
   "cell_type": "code",
   "source": "print(f'ESC50 Accuracy: {acc}')",
   "id": "7f8e0a380765a609",
   "outputs": [
    {
     "name": "stdout",
     "output_type": "stream",
     "text": [
      "ESC50 Accuracy: 0.93408203125\n"
     ]
    }
   ],
   "execution_count": 7
  }
 ],
 "metadata": {
  "kernelspec": {
   "display_name": "Python 3",
   "language": "python",
   "name": "python3"
  },
  "language_info": {
   "codemirror_mode": {
    "name": "ipython",
    "version": 2
   },
   "file_extension": ".py",
   "mimetype": "text/x-python",
   "name": "python",
   "nbconvert_exporter": "python",
   "pygments_lexer": "ipython2",
   "version": "2.7.6"
  }
 },
 "nbformat": 4,
 "nbformat_minor": 5
}

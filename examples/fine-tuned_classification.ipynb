{
 "cells": [
  {
   "cell_type": "code",
   "id": "initial_id",
   "metadata": {
    "collapsed": true
   },
   "source": [
    "from torch.utils.data import DataLoader\n",
    "from clap import ClapAudioClassifier\n",
    "from clap.evaluate import eval_fine_tuned_classification\n",
    "from clap.datasets import ClapDataset\n",
    "from clap.utils import get_target_device, load_clap_config"
   ],
   "outputs": [],
   "execution_count": null
  },
  {
   "metadata": {},
   "cell_type": "markdown",
   "source": "# Evaluate fine-tuned audio classification performance on the ESC-50 dataset",
   "id": "a69873974242d404"
  },
  {
   "metadata": {},
   "cell_type": "code",
   "source": [
    "# Load config for audio processing and get target device\n",
    "config_path = r\"C:\\Users\\leon\\Documents\\ML_Projects\\Custom-CLAP\\clap\\configs\\clap_htsat-tiny_gpt2_v1.yml\"\n",
    "ckpt_path = r\"C:\\Users\\leon\\Documents\\ML_Projects\\Custom-CLAP\\clap\\checkpoints\\clap_htsat-tiny_gpt2_v1.ckpt\"\n",
    "config = load_clap_config(config_path=config_path)\n",
    "device = get_target_device()"
   ],
   "id": "72c2bd97246e822d",
   "outputs": [],
   "execution_count": null
  },
  {
   "metadata": {},
   "cell_type": "code",
   "source": [
    "# Load Dataset and DataLoader\n",
    "esc50_dataset = ClapDataset(config=config, kinds=[\"train\", \"val\", \"test\"], datasets=[\"ESC50\"], datasets_paths=[r\"C:\\Users\\leon\\Documents\\ML_Projects\\Custom-CLAP\\clap\\datasets\\esc50\"])\n",
    "esc50_dataloader = DataLoader(esc50_dataset, batch_size=config[\"training\"][\"batch_size\"], shuffle=False)"
   ],
   "id": "1d09a17c22a9973f",
   "outputs": [],
   "execution_count": null
  },
  {
   "metadata": {},
   "cell_type": "code",
   "source": [
    "# Load pretrained model\n",
    "clf = ClapAudioClassifier.from_ckpt(config_path=config_path, ckpt_path=ckpt_path).to(device)"
   ],
   "id": "365b0be6d9001775",
   "outputs": [],
   "execution_count": null
  },
  {
   "metadata": {},
   "cell_type": "code",
   "source": "acc = eval_fine_tuned_classification(model=clf, eval_loader=esc50_dataloader)",
   "id": "5057bf46dadd4d6e",
   "outputs": [],
   "execution_count": null
  },
  {
   "metadata": {},
   "cell_type": "code",
   "source": "print(f'ESC-50 Accuracy: {acc}')",
   "id": "7f8e0a380765a609",
   "outputs": [],
   "execution_count": null
  }
 ],
 "metadata": {
  "kernelspec": {
   "display_name": "Python 3",
   "language": "python",
   "name": "python3"
  },
  "language_info": {
   "codemirror_mode": {
    "name": "ipython",
    "version": 2
   },
   "file_extension": ".py",
   "mimetype": "text/x-python",
   "name": "python",
   "nbconvert_exporter": "python",
   "pygments_lexer": "ipython2",
   "version": "2.7.6"
  }
 },
 "nbformat": 4,
 "nbformat_minor": 5
}

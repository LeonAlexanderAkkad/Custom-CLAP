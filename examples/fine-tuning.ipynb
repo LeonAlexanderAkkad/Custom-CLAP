{
 "cells": [
  {
   "cell_type": "code",
   "id": "initial_id",
   "metadata": {
    "collapsed": true
   },
   "source": [
    "import wandb\n",
    "import torch\n",
    "from torch import optim\n",
    "from torch.utils.data import DataLoader\n",
    "from clap import Clap, ClapAudioClassifier\n",
    "from clap.training import create_scheduler, ClapFinetuner\n",
    "from clap.datasets import ClapDataset\n",
    "from clap.utils import get_target_device, load_clap_config, set_random_seed"
   ],
   "outputs": [],
   "execution_count": null
  },
  {
   "metadata": {},
   "cell_type": "markdown",
   "source": "# Fine-tune ClapAudioClassifier on ESC-50",
   "id": "a0868908e021baa0"
  },
  {
   "metadata": {},
   "cell_type": "code",
   "source": [
    "# Load config for audio processing and get target device\n",
    "config_path = r\"C:\\Users\\leon\\Documents\\ML_Projects\\Custom-CLAP\\clap\\configs\\clap_htsat-tiny_gpt2_v1.yml\"\n",
    "clap_ckpt_path = r\"C:\\Users\\leon\\Documents\\ML_Projects\\Custom-CLAP\\clap\\checkpoints\\clap_htsat-tiny_gpt2_v1.ckpt\"\n",
    "clf_ckpt_path = r\"C:\\Users\\leon\\Documents\\ML_Projects\\Custom-CLAP\\clap\\checkpoints\\clf_htsat-tiny_gpt2_v1.ckpt\"\n",
    "config = load_clap_config(config_path=config_path)\n",
    "device = get_target_device()"
   ],
   "id": "32b1af31280127c4",
   "outputs": [],
   "execution_count": null
  },
  {
   "metadata": {},
   "cell_type": "code",
   "source": [
    "# Load Datasets\n",
    "seed = set_random_seed(None)\n",
    "dataset_paths = [r\"C:\\Users\\leon\\Documents\\ML_Projects\\Custom-CLAP\\clap\\datasets\\esc50\"]\n",
    "train_dataset = ClapDataset(config=config, kinds=[\"train\"], datasets=[\"ESC50\"], datasets_paths=dataset_paths)\n",
    "val_dataset = ClapDataset(config=config, kinds=[\"val\"], datasets=[\"ESC50\"], datasets_paths=dataset_paths)\n",
    "test_dataset = ClapDataset(config=config, kinds=[\"test\"], datasets=[\"ESC50\"], datasets_paths=dataset_paths)"
   ],
   "id": "d26cdbcee674bf6",
   "outputs": [],
   "execution_count": null
  },
  {
   "metadata": {},
   "cell_type": "code",
   "source": [
    "# Use wandb for logging (just skip and set enable_wandb_logging to False if not wanted)\n",
    "wandb.login()"
   ],
   "id": "e7159f0bef2c1e8a",
   "outputs": [],
   "execution_count": null
  },
  {
   "metadata": {},
   "cell_type": "code",
   "source": [
    "wandb.init(\n",
    "    # Set the wandb project where this run will be logged \n",
    "    project='CLAP-Fine-tuning',\n",
    "    name=\"First fine-tuning run\",\n",
    "    # Track hyperparameters\n",
    "    config=config\n",
    ")\n",
    "config = wandb.config"
   ],
   "id": "f1ff3f240a70e90c",
   "outputs": [],
   "execution_count": null
  },
  {
   "metadata": {},
   "cell_type": "code",
   "source": [
    "# Define data loaders\n",
    "train_loader = DataLoader(train_dataset, batch_size=config[\"fine-tuning\"][\"batch_size\"], shuffle=True)\n",
    "val_loader = DataLoader(val_dataset, batch_size=config[\"fine-tuning\"][\"batch_size\"])\n",
    "test_loader = DataLoader(test_dataset, batch_size=config[\"fine-tuning\"][\"batch_size\"])"
   ],
   "id": "a31d3c1b931f6e12",
   "outputs": [],
   "execution_count": null
  },
  {
   "metadata": {},
   "cell_type": "code",
   "source": [
    "# Define model, optimizer, scheduler and loss function\n",
    "clap = Clap.from_ckpt(config_path=config_path, ckpt_path=clap_ckpt_path)\n",
    "clap_clf = ClapAudioClassifier(clap=clap, config=config).to(device)\n",
    "print(f\"Number of parameters to train: {sum(p.numel() for p in clap_clf.parameters())}\")\n",
    "optimizer = optim.Adam(clap.parameters(), lr=config[\"fine-tuning\"][\"learning_rate\"])\n",
    "scheduler = create_scheduler(optimizer, warmup_steps=31, T_max=len(train_loader)*config[\"fine-tuning\"][\"epochs\"], milestones=[31])\n",
    "loss_fn = torch.nn.CrossEntropyLoss()\n",
    "trainer = ClapFinetuner(\n",
    "    train_loader=train_loader,\n",
    "    val_loader=val_loader,\n",
    "    test_loader=test_loader,\n",
    "    model=clap_clf,\n",
    "    optimizer=optimizer,\n",
    "    scheduler=scheduler,\n",
    "    loss_fn=loss_fn,\n",
    "    epochs=config[\"fine-tuning\"][\"epochs\"],\n",
    "    enable_wandb_logging=True\n",
    ")"
   ],
   "id": "3a014ceefd66b8e9",
   "outputs": [],
   "execution_count": null
  },
  {
   "metadata": {},
   "cell_type": "code",
   "source": "train_metrics, val_metrics, test_metrics = trainer.finetune_and_eval(ckpt_path=clf_ckpt_path, early_stopping=False)",
   "id": "f39add4ba1ef8ee4",
   "outputs": [],
   "execution_count": null
  },
  {
   "metadata": {},
   "cell_type": "code",
   "source": "wandb.finish()",
   "id": "43417ea49835e5cd",
   "outputs": [],
   "execution_count": null
  }
 ],
 "metadata": {
  "kernelspec": {
   "display_name": "Python 3",
   "language": "python",
   "name": "python3"
  },
  "language_info": {
   "codemirror_mode": {
    "name": "ipython",
    "version": 2
   },
   "file_extension": ".py",
   "mimetype": "text/x-python",
   "name": "python",
   "nbconvert_exporter": "python",
   "pygments_lexer": "ipython2",
   "version": "2.7.6"
  }
 },
 "nbformat": 4,
 "nbformat_minor": 5
}
